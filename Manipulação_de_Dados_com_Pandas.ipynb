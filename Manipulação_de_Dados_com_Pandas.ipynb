{
  "cells": [
    {
      "cell_type": "markdown",
      "metadata": {
        "id": "upICPoiMybuf"
      },
      "source": [
        "# Manipulação de Dados com Pandas"
      ]
    },
    {
      "cell_type": "markdown",
      "metadata": {
        "id": "nfkiX8mnybui"
      },
      "source": [
        "### Data Reading"
      ]
    },
    {
      "cell_type": "markdown",
      "metadata": {
        "id": "hF37siB8ybuj"
      },
      "source": [
        "*Nossa base de dados pode ter origem de diferentes lugares e ter variados formatos, por conveniência trabalha-se preferencialmente com o formato CSV, mas podemos importar nossa base de dados de arquivos MySQL, SQL Server, Oracle, arquivos de banco de dados não relacionais (NoSQL) como MongoDB, Cassandra e podemos até mesmo trabalhar com páginas de Internet.*"
      ]
    },
    {
      "cell_type": "code",
      "source": [
        "#IMPORTANDO BIBLIOTECAS\n",
        "import pandas as pd\n",
        "import numpy as np\n",
        "from numpy import nan as NA"
      ],
      "metadata": {
        "id": "ZEb6d9ZM2-4s"
      },
      "execution_count": null,
      "outputs": []
    },
    {
      "cell_type": "markdown",
      "metadata": {
        "id": "RuVPqLi1ybuj"
      },
      "source": [
        "Lendo arquivo CSV"
      ]
    },
    {
      "cell_type": "code",
      "execution_count": null,
      "metadata": {
        "id": "-0EGl2viybuk"
      },
      "outputs": [],
      "source": [
        "#nota: a função header indica se há ou não um cabeçalho no Banco de Dados\n",
        "#nota: a função sep indica qual o separador de cada item dos registros (aqui estamos usando a vírgula)\n",
        "df = pd.read_csv('arquivo.csv', header=None, sep=',')"
      ]
    },
    {
      "cell_type": "markdown",
      "metadata": {
        "id": "n1mJqXagybul"
      },
      "source": [
        "Exportando arquivo CSV"
      ]
    },
    {
      "cell_type": "code",
      "execution_count": null,
      "metadata": {
        "id": "1RBQg0vfybul"
      },
      "outputs": [],
      "source": [
        "df.to_csv('nome_do_arquivo.csv')"
      ]
    },
    {
      "cell_type": "markdown",
      "metadata": {
        "id": "3QAdt3Rzybum"
      },
      "source": [
        "Lendo arquivo do Excel"
      ]
    },
    {
      "cell_type": "code",
      "execution_count": null,
      "metadata": {
        "id": "QhLqkadQybum"
      },
      "outputs": [],
      "source": [
        "xlsx = pd.ExcelFile('Arquivo_Excel.xlsx')"
      ]
    },
    {
      "cell_type": "markdown",
      "metadata": {
        "id": "8wmn08AWybun"
      },
      "source": [
        "Lendo somente uma planilha do Excel"
      ]
    },
    {
      "cell_type": "code",
      "execution_count": null,
      "metadata": {
        "id": "_DAvketFybuo"
      },
      "outputs": [],
      "source": [
        "pd.read_excel(xlsx, 'Nome da Planilha')"
      ]
    },
    {
      "cell_type": "markdown",
      "metadata": {
        "id": "2ag1isLdybuo"
      },
      "source": [
        "Lendo Página da Web"
      ]
    },
    {
      "cell_type": "code",
      "execution_count": null,
      "metadata": {
        "id": "ekR9KI2Nybuo"
      },
      "outputs": [],
      "source": [
        "pd.read_html('https://www.link-da-pagina.com/index/')"
      ]
    },
    {
      "cell_type": "markdown",
      "metadata": {
        "id": "eOV_mIqrybup"
      },
      "source": [
        "### Data Cleaning"
      ]
    },
    {
      "cell_type": "markdown",
      "metadata": {
        "id": "-XG8t1Scybup"
      },
      "source": [
        "*Nem sempre nossa base de dados estará organizada, podem existir dados faltantes, duplicatas, campos preenchidos incorretamente. Nossa tarefa é identificar, corrigir e remover estes registros incorretos. O nome desse procedimento em Data Science, se chama Data Wrangling (Preparação dos Dados) ou Data Munging (Lama de Dados).*\n",
        "\n",
        "*Veremos abaixo algumas funções e procecimentos que podem ajudar a 'limpar os dados':*"
      ]
    },
    {
      "cell_type": "code",
      "execution_count": null,
      "metadata": {
        "id": "vUxxEBz0ybup"
      },
      "outputs": [],
      "source": [
        "#DADOS\n",
        "dados = pd.Series(['melao', 'abacate', np.nan, 'tomate'])\n",
        "dados2 = pd.DataFrame([[2, 7, 8], [NA, NA, NA], [2, NA, NA], [NA, 9, 5]])\n",
        "dados3 = pd.Series(['melao', 'abacate', np.nan, np.nan, np.nan, 'tomate'])\n",
        "dados4 = pd.DataFrame(np.random.randn(8, 4))\n",
        "dados4.iloc[:4, 1] = NA\n",
        "dados4.iloc[:2, 2] = NA\n",
        "dados5 = pd.DataFrame({'a1': [2, 8, 2, 2, 7, 4], 'a2': [2, 1, 1, 2, 8, 4]})"
      ]
    },
    {
      "cell_type": "markdown",
      "metadata": {
        "id": "VHkdXj9jybuq"
      },
      "source": [
        "Identificar os elementos que são nulos"
      ]
    },
    {
      "cell_type": "code",
      "execution_count": null,
      "metadata": {
        "id": "EpXbnUcSybuq",
        "outputId": "36960d82-bb04-4412-d186-86ed61bdfbdc"
      },
      "outputs": [
        {
          "name": "stdout",
          "output_type": "stream",
          "text": [
            "2    NaN\n",
            "dtype: object\n"
          ]
        }
      ],
      "source": [
        "nulos = dados[dados.isnull()]\n",
        "print(nulos)"
      ]
    },
    {
      "cell_type": "markdown",
      "metadata": {
        "id": "y0z2Izbeybur"
      },
      "source": [
        "Excluir quando todos os elementos da lista são nulos"
      ]
    },
    {
      "cell_type": "code",
      "execution_count": null,
      "metadata": {
        "id": "72eC1fJyybur"
      },
      "outputs": [],
      "source": [
        "dados2 = dados2.dropna(how = 'all')\n",
        "print(dados2)"
      ]
    },
    {
      "cell_type": "markdown",
      "metadata": {
        "id": "aa58ap1tybur"
      },
      "source": [
        "*Se tivermos muitos dados nulos pode ser preferível excluir a coluna desta variável,*"
      ]
    },
    {
      "cell_type": "markdown",
      "metadata": {
        "id": "l8VmHEB_ybus"
      },
      "source": [
        "Preencher nulos"
      ]
    },
    {
      "cell_type": "code",
      "execution_count": null,
      "metadata": {
        "id": "D7780whcybus"
      },
      "outputs": [],
      "source": [
        "dados3 = dados3.fillna(method = 'ffill')\n",
        "print(dados3)\n",
        "\n",
        "#nota: o método ffill preenche nulos com o primeiro item da lista anterior à sequência de nulos"
      ]
    },
    {
      "cell_type": "markdown",
      "metadata": {
        "id": "AYF9vmngybus"
      },
      "source": [
        "Preenchendo nulos por valores numéricos"
      ]
    },
    {
      "cell_type": "code",
      "execution_count": null,
      "metadata": {
        "id": "Zx9IBOK9ybus"
      },
      "outputs": [],
      "source": [
        "array = pd.Series([1, 2, np.nan, 4, 5, np.nan, np.nan, 1, 2, 2, np.nan, np.nan, 4])\n",
        "\n",
        "#Substituindo nulos por 0\n",
        "df_array_new = array.fillna(0)\n",
        "print(df_array_new)"
      ]
    },
    {
      "cell_type": "markdown",
      "metadata": {
        "id": "60xeDpsxybut"
      },
      "source": [
        "Preencher nulos com a média"
      ]
    },
    {
      "cell_type": "code",
      "execution_count": null,
      "metadata": {
        "id": "FpJBwqXAybut"
      },
      "outputs": [],
      "source": [
        "dados4 = dados4.fillna(dados4.mean())\n",
        "print(dados4)"
      ]
    },
    {
      "cell_type": "markdown",
      "metadata": {
        "id": "DPq0lMQ8ybut"
      },
      "source": [
        "Removendo Duplicatas"
      ]
    },
    {
      "cell_type": "code",
      "execution_count": null,
      "metadata": {
        "id": "ABWGS67Wybut"
      },
      "outputs": [],
      "source": [
        "dados5 = dados5.drop_duplicates(['a1', 'a2'], keep=False)\n",
        "print(dados5)"
      ]
    },
    {
      "cell_type": "markdown",
      "metadata": {
        "id": "c8XfHMaqybut"
      },
      "source": [
        "Função Map"
      ]
    },
    {
      "cell_type": "markdown",
      "metadata": {
        "id": "Z9rX15W0ybuu"
      },
      "source": [
        "*Usada geralmente para substituir cada valor em uma série por outro, geralmente através de uma função ou um dicionário*"
      ]
    },
    {
      "cell_type": "code",
      "execution_count": null,
      "metadata": {
        "id": "h8AWAg8nybuu"
      },
      "outputs": [],
      "source": [
        "#neste código, para demonstração, usou-se um dicionário\n",
        "data = pd.DataFrame(\n",
        "    {'places': ['Brasil', 'Santa Catarina', 'Fortaleza', 'Brasilia', 'Sao Paulo', 'Portugal', 'Noruega', 'Alemanha', 'Manaus'],\n",
        "     'nums':[4, 3, 1, 2, 6, 3, 1, 8, 9]})\n",
        "\n",
        "cat_places= {\n",
        "    'Brasil': 'pais',\n",
        "    'Santa Catarina': 'estado',\n",
        "    'Fortaleza': 'cidade',\n",
        "    'Brasilia': 'cidade',\n",
        "    'Sao Paulo': 'estado',\n",
        "    'Portugal': 'pais',\n",
        "    'Noruega': 'pais',\n",
        "    'Alemanha': 'pais',\n",
        "    'Manaus': 'cidade'   \n",
        "}\n",
        "\n",
        "data['categoria'] = data['places'].map(cat_places)\n",
        "\n",
        "print(data)"
      ]
    },
    {
      "cell_type": "markdown",
      "metadata": {
        "id": "TQVbDszQybuu"
      },
      "source": [
        "Preenchendo valores baseando-se em sua probabilidade de ocorrência"
      ]
    },
    {
      "cell_type": "code",
      "execution_count": null,
      "metadata": {
        "id": "QfedBzAqybuu",
        "outputId": "53afbcea-bb08-477e-9bca-69ffb9107aa1"
      },
      "outputs": [
        {
          "name": "stdout",
          "output_type": "stream",
          "text": [
            "0    Bruno\n",
            "1    Bruno\n",
            "2    Marco\n",
            "3    Carla\n",
            "4    Bruno\n",
            "5    Bruno\n",
            "6    Marco\n",
            "dtype: object\n"
          ]
        }
      ],
      "source": [
        "vetor = pd.Series([ np.nan, 'Bruno', 'Marco', 'Carla', 'Bruno', 'Bruno', 'Marco'])\n",
        "contagem = vetor.value_counts(1)\n",
        "\n",
        "escolher = np.random.choice(contagem.index.values, p=contagem.values)\n",
        "vetor = vetor.fillna(escolher)\n",
        "print(vetor)"
      ]
    },
    {
      "cell_type": "markdown",
      "metadata": {
        "id": "RXLWnqkJybuu"
      },
      "source": [
        "### Preparação dos Dados"
      ]
    },
    {
      "cell_type": "markdown",
      "metadata": {
        "id": "WquwWaiBybuv"
      },
      "source": [
        "Removendo Outliers"
      ]
    },
    {
      "cell_type": "code",
      "execution_count": null,
      "metadata": {
        "scrolled": true,
        "id": "3Fh495PVybuv",
        "outputId": "6aa9c56a-52c9-4b7d-b771-9d728aa8a508"
      },
      "outputs": [
        {
          "data": {
            "image/png": "[encoded data removed]",
            "text/plain": [
              "<Figure size 432x288 with 1 Axes>"
            ]
          },
          "metadata": {
            "needs_background": "light"
          },
          "output_type": "display_data"
        },
        {
          "name": "stdout",
          "output_type": "stream",
          "text": [
            "23.65\n",
            "[0 1 2]\n"
          ]
        }
      ],
      "source": [
        "from sklearn.datasets import load_wine\n",
        "import seaborn as sns\n",
        "import matplotlib.pyplot as plt\n",
        "\n",
        "#Visualizando Outliers\n",
        "var_independente = pd.DataFrame(load_wine().data)\n",
        "sns.boxplot(var_independente[3])\n",
        "plt.show()\n",
        "\n",
        "quartil1 = var_independente[3].quantile(.25)\n",
        "quartil2 = var_independente[3].quantile(.75)\n",
        "\n",
        "print(quartil1 + (quartil2-quartil1)*1.5)\n",
        "\n",
        "print(var_dependente.unique())"
      ]
    },
    {
      "cell_type": "markdown",
      "metadata": {
        "id": "JE2iCWNGybuv"
      },
      "source": [
        "Normalização"
      ]
    },
    {
      "cell_type": "markdown",
      "metadata": {
        "id": "ObkFsfReybuw"
      },
      "source": [
        "### Alterando aspectos da Apresentação dos Dados"
      ]
    },
    {
      "cell_type": "markdown",
      "metadata": {
        "id": "iN6tDRj2ybuw"
      },
      "source": [
        "Merge"
      ]
    },
    {
      "cell_type": "code",
      "execution_count": null,
      "metadata": {
        "scrolled": true,
        "id": "4EBQgMVoybuw",
        "outputId": "8c5ec24c-c3e1-4a8e-fa4b-e0189d5a324a"
      },
      "outputs": [
        {
          "name": "stdout",
          "output_type": "stream",
          "text": [
            "  a1  ordem  idade\n",
            "0  d      1    NaN\n",
            "1  k      2   40.0\n",
            "2  p      3   50.0\n",
            "3  b      4    NaN\n",
            "4  l      5   60.0\n",
            "5  o      6    NaN\n",
            "6  k      7   40.0\n"
          ]
        }
      ],
      "source": [
        "#DADOS\n",
        "frame = pd.DataFrame(np.arange(16).reshape((4, 4)),\n",
        "                     index = [['a', 'a', 'b', 'c'], [1, 2, 1, 2]],\n",
        "                     columns = [['Rio de Janeiro', 'Sao Paulo', 'Fortaleza', 'Sao Paulo'],['Azul', 'Azul', 'Verde', 'Amarelo']])\n",
        "\n",
        "dados1 = pd.DataFrame({'a1': ['d', 'k', 'p', 'b', 'l', 'o', 'k'],  'ordem': [1,2,3,4,5,6,7]})\n",
        "dados2 = pd.DataFrame({'a1': ['k', 'p', 'l'],  'idade': [40,50,60]})\n",
        "\n",
        "juntar = pd.merge(dados1, dados2, on='a1', how='left')\n",
        "print(juntar)"
      ]
    },
    {
      "cell_type": "markdown",
      "metadata": {
        "id": "fzydoFCfybuw"
      },
      "source": [
        "Fundição"
      ]
    },
    {
      "cell_type": "code",
      "execution_count": null,
      "metadata": {
        "id": "Bcn8sI_sybuw",
        "outputId": "be8574b1-b07f-4a11-a2d4-432c750d8899"
      },
      "outputs": [
        {
          "name": "stdout",
          "output_type": "stream",
          "text": [
            "   nomes variable  value\n",
            "0  Bruno    idade     26\n",
            "1  Carla    idade     20\n",
            "2  Fabio    idade     30\n",
            "3  Bruno     peso     68\n",
            "4  Carla     peso     55\n",
            "5  Fabio     peso     70\n",
            "6  Bruno     nums      7\n",
            "7  Carla     nums      8\n",
            "8  Fabio     nums      9\n"
          ]
        }
      ],
      "source": [
        "df = pd.DataFrame({\n",
        "    'nomes': ['Bruno', 'Carla', 'Fabio'],\n",
        "    'idade': [26, 20, 30],\n",
        "    'peso': [68, 55, 70],\n",
        "    'nums': [7, 8, 9]})\n",
        "\n",
        "fundir = pd.melt(df, ['nomes'])\n",
        "print(fundir)"
      ]
    },
    {
      "cell_type": "markdown",
      "metadata": {
        "id": "PmXU3e12ybux"
      },
      "source": [
        "Tabela Pivot"
      ]
    },
    {
      "cell_type": "code",
      "execution_count": null,
      "metadata": {
        "id": "L3aRZov7ybux",
        "outputId": "eb310cbd-5b1b-4e81-d5da-808adf59e671"
      },
      "outputs": [
        {
          "name": "stdout",
          "output_type": "stream",
          "text": [
            "variable  idade  nums  peso\n",
            "nomes                      \n",
            "Bruno        26     7    68\n",
            "Carla        20     8    55\n",
            "Fabio        30     9    70\n"
          ]
        }
      ],
      "source": [
        "pivot = fundir.pivot('nomes', 'variable', 'value')\n",
        "print(pivot)"
      ]
    },
    {
      "cell_type": "markdown",
      "metadata": {
        "id": "ky3evgJvybux"
      },
      "source": [
        "Stack"
      ]
    },
    {
      "cell_type": "code",
      "execution_count": null,
      "metadata": {
        "id": "Iyh8CBR4ybux",
        "outputId": "6e630f39-8c69-49f9-e9e0-acc06c744057"
      },
      "outputs": [
        {
          "name": "stdout",
          "output_type": "stream",
          "text": [
            "nomes  variable\n",
            "Bruno  idade       26\n",
            "       nums         7\n",
            "       peso        68\n",
            "Carla  idade       20\n",
            "       nums         8\n",
            "       peso        55\n",
            "Fabio  idade       30\n",
            "       nums         9\n",
            "       peso        70\n",
            "dtype: int64\n"
          ]
        }
      ],
      "source": [
        "#nota: a função Stack 'empilha' as colunas para cada elemento do index\n",
        "stack = pivot.stack()\n",
        "print(stack)"
      ]
    },
    {
      "cell_type": "markdown",
      "metadata": {
        "id": "SX5o15Q_ybux"
      },
      "source": [
        "Unstack - *devolve a sua forma original*"
      ]
    },
    {
      "cell_type": "code",
      "execution_count": null,
      "metadata": {
        "id": "Yzp0qWJkybux",
        "outputId": "ec675811-e7b5-4775-cb99-64eb0a9a91ad"
      },
      "outputs": [
        {
          "name": "stdout",
          "output_type": "stream",
          "text": [
            "variable  idade  nums  peso\n",
            "nomes                      \n",
            "Bruno        26     7    68\n",
            "Carla        20     8    55\n",
            "Fabio        30     9    70\n"
          ]
        }
      ],
      "source": [
        "unstack = stack.unstack()\n",
        "print(unstack)"
      ]
    },
    {
      "cell_type": "markdown",
      "metadata": {
        "id": "edHC1xnMybuy"
      },
      "source": [
        "Agrupar"
      ]
    },
    {
      "cell_type": "code",
      "execution_count": null,
      "metadata": {
        "id": "ojaXXQmCybuy"
      },
      "outputs": [],
      "source": [
        "#DADOS\n",
        "df = pd.DataFrame({\n",
        "    'key1': ['baz', 'baz', 'foz', 'foz', 'baz'],\n",
        "    'key2': ['Bruno', 'Marco', 'Marco', 'Bruno', 'Bruno'],\n",
        "    'data1': np.random.rand(5),\n",
        "    'data2': np.random.rand(5)})\n",
        "\n",
        "group = df['data1'].groupby(df['key1'])\n",
        "print('agrupamento = \\n', list(group))"
      ]
    },
    {
      "cell_type": "markdown",
      "metadata": {
        "id": "V080D7TSybuy"
      },
      "source": [
        "Agrupar com mais de um index"
      ]
    },
    {
      "cell_type": "code",
      "execution_count": null,
      "metadata": {
        "id": "cXN-06qEybuy"
      },
      "outputs": [],
      "source": [
        "means = df['data1'].groupby([df['key2'], df['key1']])\n",
        "print('média \\n', list(means))\n",
        "\n",
        "#nota: também podemos utilizar outras medidas como somatório, contagem ou mediana"
      ]
    },
    {
      "cell_type": "markdown",
      "metadata": {
        "id": "O6-k8BOPybuz"
      },
      "source": [
        "Agrupar utilizando a média como parâmetro"
      ]
    },
    {
      "cell_type": "code",
      "execution_count": null,
      "metadata": {
        "id": "FU0fe0Laybuz"
      },
      "outputs": [],
      "source": [
        "means = df['data1'].groupby([df['key2'], df['key1']]).mean()\n",
        "print('média \\n', means)"
      ]
    },
    {
      "cell_type": "markdown",
      "metadata": {
        "id": "C9SudmWMybuz"
      },
      "source": [
        "Fragmentar"
      ]
    },
    {
      "cell_type": "code",
      "execution_count": null,
      "metadata": {
        "id": "NA9kCxWMybu0"
      },
      "outputs": [],
      "source": [
        "print('fragmentar \\n', means.unstack())"
      ]
    },
    {
      "cell_type": "markdown",
      "metadata": {
        "id": "cvroW_rrybu0"
      },
      "source": [
        "Agrupar usando dicionário"
      ]
    },
    {
      "cell_type": "code",
      "execution_count": null,
      "metadata": {
        "id": "3LNo1a1kybu0"
      },
      "outputs": [],
      "source": [
        "people = pd.DataFrame(np.random.randn(5, 5),\n",
        "                      columns = ['a', 'b', 'c', 'd', 'e'],\n",
        "                      index = ['Carla', 'Julio', 'Marco', 'Jim', 'Fabio'])\n",
        "\n",
        "mapping = {'a': 'azul', 'b': 'azul', 'c': 'verde', 'd': 'verde', 'e': 'azul', 'e' : 'amarelo'}\n",
        "by_column = people.groupby(mapping, axis=1)\n",
        "\n",
        "print(by_column.sum())"
      ]
    },
    {
      "cell_type": "markdown",
      "metadata": {
        "id": "TbLLW6O5ybu0"
      },
      "source": [
        "Agrupar usando múltiplos indexes"
      ]
    },
    {
      "cell_type": "code",
      "execution_count": null,
      "metadata": {
        "id": "6-W7irhUybu1"
      },
      "outputs": [],
      "source": [
        "columns = pd.MultiIndex.from_arrays([['SP', 'SP', 'SP', 'RJ', 'RJ'],\n",
        "                                     [2, 1, 3, 2, 3]],\n",
        "                                    names = ['cidade', 'categoria'])\n",
        "\n",
        "group_df = pd.DataFrame(np.random.randn(4, 5), columns=columns)\n",
        "print(group_df)"
      ]
    },
    {
      "cell_type": "markdown",
      "metadata": {
        "id": "_R0pRgA2ybu1"
      },
      "source": [
        "Selecionando uma única coluna para agrupar"
      ]
    },
    {
      "cell_type": "code",
      "execution_count": null,
      "metadata": {
        "scrolled": false,
        "id": "JerQBn4vybu1"
      },
      "outputs": [],
      "source": [
        "print(group_df.groupby(level='cidade', axis=1).sum())"
      ]
    }
  ],
  "metadata": {
    "kernelspec": {
      "display_name": "Python 3",
      "language": "python",
      "name": "python3"
    },
    "language_info": {
      "codemirror_mode": {
        "name": "ipython",
        "version": 3
      },
      "file_extension": ".py",
      "mimetype": "text/x-python",
      "name": "python",
      "nbconvert_exporter": "python",
      "pygments_lexer": "ipython3",
      "version": "3.7.3"
    },
    "colab": {
      "name": "Manipulação de Dados com Pandas.ipynb",
      "provenance": [],
      "collapsed_sections": []
    }
  },
  "nbformat": 4,
  "nbformat_minor": 0
}