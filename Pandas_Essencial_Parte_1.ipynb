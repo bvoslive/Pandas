{
  "cells": [
    {
      "cell_type": "markdown",
      "metadata": {
        "id": "I14dzbm1vAPe"
      },
      "source": [
        "# Pandas: Essencial - Parte 1"
      ]
    },
    {
      "cell_type": "markdown",
      "metadata": {
        "id": "6Cz26YgMvAPh"
      },
      "source": [
        "*Pandas é uma biblioteca bem popular e eficaz do Python para manipulação, modelagem e análise de dados. Veremos abaixo algumas das principais tarefas e funções do Pandas.*"
      ]
    },
    {
      "cell_type": "markdown",
      "metadata": {
        "id": "RxH0AGGivAPh"
      },
      "source": [
        "Importando bibliotecas"
      ]
    },
    {
      "cell_type": "code",
      "execution_count": null,
      "metadata": {
        "id": "VKMZB7oxvAPi"
      },
      "outputs": [],
      "source": [
        "import pandas as pd #esta é a biblioteca do Pandas\n",
        "import numpy as np #vamos precisar do Numpy também"
      ]
    },
    {
      "cell_type": "markdown",
      "metadata": {
        "id": "tmAKebonvAPj"
      },
      "source": [
        "### Séries em Pandas"
      ]
    },
    {
      "cell_type": "markdown",
      "metadata": {
        "id": "egSaSb9yvAPj"
      },
      "source": [
        "*Uma Serie é como um array unidimensional, uma lista de valores. Toda Serie possui um índice, que dá rótulos a cada elemento da lista*"
      ]
    },
    {
      "cell_type": "markdown",
      "metadata": {
        "id": "-W-2MRdbvAPk"
      },
      "source": [
        "Criando uma lista que será convertida em série Pandas"
      ]
    },
    {
      "cell_type": "code",
      "execution_count": null,
      "metadata": {
        "id": "h5HtNCdwvAPk"
      },
      "outputs": [],
      "source": [
        "array = [1, 2, 4, 6, 8, 10]"
      ]
    },
    {
      "cell_type": "markdown",
      "metadata": {
        "id": "H3LREwX8vAPl"
      },
      "source": [
        "Convertendo para uma série Pandas"
      ]
    },
    {
      "cell_type": "code",
      "execution_count": null,
      "metadata": {
        "id": "6Pa7SVvivAPm",
        "outputId": "3267d671-5d23-485a-d463-2a354ff78f47"
      },
      "outputs": [
        {
          "name": "stdout",
          "output_type": "stream",
          "text": [
            "0     1\n",
            "1     2\n",
            "2     4\n",
            "3     6\n",
            "4     8\n",
            "5    10\n",
            "dtype: int64\n"
          ]
        }
      ],
      "source": [
        "ds_array = pd.Series(array)\n",
        "print(ds_array)"
      ]
    },
    {
      "cell_type": "markdown",
      "metadata": {
        "id": "pGTvFu26vAPn"
      },
      "source": [
        "Convertendo Série Pandas para Lista"
      ]
    },
    {
      "cell_type": "code",
      "execution_count": null,
      "metadata": {
        "id": "EbcQsXwPvAPn",
        "outputId": "14898fb4-6b98-4cf9-9997-da37a3422d3a"
      },
      "outputs": [
        {
          "name": "stdout",
          "output_type": "stream",
          "text": [
            "[1, 2, 4, 6, 8, 10]\n"
          ]
        }
      ],
      "source": [
        "list_array = ds_array.tolist()\n",
        "print(list_array)"
      ]
    },
    {
      "cell_type": "markdown",
      "metadata": {
        "id": "MT0_H0GDvAPn"
      },
      "source": [
        "Convertendo um dicionário para uma série Pandas"
      ]
    },
    {
      "cell_type": "code",
      "execution_count": null,
      "metadata": {
        "id": "D1kbYyOSvAPo",
        "outputId": "9d1ba845-45ed-41b2-bd76-7a71b767f05b"
      },
      "outputs": [
        {
          "name": "stdout",
          "output_type": "stream",
          "text": [
            "a1     1\n",
            "a2     5\n",
            "a3    20\n",
            "a4    50\n",
            "a5    80\n",
            "dtype: int64\n"
          ]
        }
      ],
      "source": [
        "dict = {'a1' : 1, 'a2' : 5, 'a3' : 20, 'a4' : 50, 'a5' : 80}\n",
        "dict_series = pd.Series(dict)\n",
        "print(dict_series)"
      ]
    },
    {
      "cell_type": "markdown",
      "metadata": {
        "id": "9u8NiaRWvAPo"
      },
      "source": [
        "Convertendo array Numpy para série Pandas"
      ]
    },
    {
      "cell_type": "code",
      "execution_count": null,
      "metadata": {
        "id": "Fii8c0a7vAPo",
        "outputId": "653f9499-c870-4f4d-d39c-348dc73e9123"
      },
      "outputs": [
        {
          "name": "stdout",
          "output_type": "stream",
          "text": [
            "0     1\n",
            "1     3\n",
            "2     4\n",
            "3     7\n",
            "4     8\n",
            "5    10\n",
            "6    15\n",
            "dtype: int32\n"
          ]
        }
      ],
      "source": [
        "array = [1, 3, 4, 7, 8, 10 ,15]\n",
        "np_array = np.array(array)\n",
        "ds_array = pd.Series(np_array)\n",
        "print(ds_array)"
      ]
    },
    {
      "cell_type": "markdown",
      "metadata": {
        "id": "puJq3Lb3vAPp"
      },
      "source": [
        "Alterando index da Serie"
      ]
    },
    {
      "cell_type": "code",
      "execution_count": null,
      "metadata": {
        "id": "s2vnQgnTvAPp",
        "outputId": "2c2de3f4-882e-4211-ec30-bc2722517d28"
      },
      "outputs": [
        {
          "name": "stdout",
          "output_type": "stream",
          "text": [
            "a     1\n",
            "b     3\n",
            "c     4\n",
            "d     7\n",
            "e     8\n",
            "f    10\n",
            "g    15\n",
            "dtype: int32\n"
          ]
        }
      ],
      "source": [
        "ds_array.index = ['a', 'b', 'c', 'd', 'e', 'f', 'g']\n",
        "print(ds_array)"
      ]
    },
    {
      "cell_type": "markdown",
      "metadata": {
        "id": "ZFpeLLZ3vAPp"
      },
      "source": [
        "Convertendo uma lista com string e floats para série Pandas"
      ]
    },
    {
      "cell_type": "code",
      "execution_count": null,
      "metadata": {
        "id": "UvLSnT6wvAPp",
        "outputId": "481d73dc-9a72-4a32-fd7d-82f678894218"
      },
      "outputs": [
        {
          "name": "stdout",
          "output_type": "stream",
          "text": [
            "0         1\n",
            "1         2\n",
            "2    Python\n",
            "3         5\n",
            "4         6\n",
            "5    Pandas\n",
            "6         9\n",
            "7        14\n",
            "dtype: object\n"
          ]
        }
      ],
      "source": [
        "array = ['1', '2', 'Python', '5', '6', 'Pandas', '9', '14']\n",
        "ds_array = pd.Series(array)\n",
        "print(ds_array)"
      ]
    },
    {
      "cell_type": "markdown",
      "metadata": {
        "id": "Bv3_6lLzvAPq"
      },
      "source": [
        "Convertendo ds_array para uma série numérica"
      ]
    },
    {
      "cell_type": "code",
      "execution_count": null,
      "metadata": {
        "id": "82OI3R69vAPq",
        "outputId": "580a8f32-eb8a-45f8-e0ba-0fda2dbbfd7b"
      },
      "outputs": [
        {
          "name": "stdout",
          "output_type": "stream",
          "text": [
            "0     1.0\n",
            "1     2.0\n",
            "2     NaN\n",
            "3     5.0\n",
            "4     6.0\n",
            "5     NaN\n",
            "6     9.0\n",
            "7    14.0\n",
            "dtype: float64\n"
          ]
        }
      ],
      "source": [
        "ds_array2 = pd.to_numeric(ds_array, errors='coerce')\n",
        "print(ds_array2)"
      ]
    },
    {
      "cell_type": "markdown",
      "metadata": {
        "id": "bLH54sBRvAPq"
      },
      "source": [
        "Armazenando valores da série numa variável - *os valores passam a não estar mais atrelados aos seus respectivos indexes* "
      ]
    },
    {
      "cell_type": "code",
      "execution_count": null,
      "metadata": {
        "id": "qyO5hDKRvAPr",
        "outputId": "b80f7c07-2c8d-40eb-8e51-0e7dc496e4e7"
      },
      "outputs": [
        {
          "name": "stdout",
          "output_type": "stream",
          "text": [
            "['1' '2' 'Python' '5' '6' 'Pandas' '9' '14']\n"
          ]
        }
      ],
      "source": [
        "valores_serie = ds_array.values\n",
        "print(valores_serie)"
      ]
    },
    {
      "cell_type": "markdown",
      "metadata": {
        "id": "I84RmyVUvAPr"
      },
      "source": [
        "Convertendo três listas para uma série"
      ]
    },
    {
      "cell_type": "code",
      "execution_count": null,
      "metadata": {
        "id": "IM5FLPEnvAPr",
        "outputId": "0f0ae489-32f2-4296-8e4a-1e4588c0d7e3"
      },
      "outputs": [
        {
          "name": "stdout",
          "output_type": "stream",
          "text": [
            "0       [A, B, C]\n",
            "1    [1, 2, 3, 4]\n",
            "2          [d, e]\n",
            "dtype: object\n"
          ]
        }
      ],
      "source": [
        "array11 = ['A','B','C']\n",
        "array12 = ['1','2','3','4']\n",
        "array13 = ['d','e']\n",
        "serie = pd.Series([array11,array12,array13])\n",
        "print(serie)"
      ]
    },
    {
      "cell_type": "markdown",
      "metadata": {
        "id": "qSORPhSzvAPr"
      },
      "source": [
        "*Cada elemento de uma Série não precisa necessariamente armazenar um único valor, podemos armazenar outros vetores também*"
      ]
    },
    {
      "cell_type": "markdown",
      "metadata": {
        "id": "RcyAvE0dvAPs"
      },
      "source": [
        "Convertendo a série acima para uma única série"
      ]
    },
    {
      "cell_type": "code",
      "execution_count": null,
      "metadata": {
        "id": "sOJPz8YPvAPs",
        "outputId": "fe23593a-9af8-4abe-aedf-38d0f119aa54"
      },
      "outputs": [
        {
          "name": "stdout",
          "output_type": "stream",
          "text": [
            "0    A\n",
            "1    B\n",
            "2    C\n",
            "3    1\n",
            "4    2\n",
            "5    3\n",
            "6    4\n",
            "7    d\n",
            "8    e\n",
            "dtype: object\n"
          ]
        }
      ],
      "source": [
        "serie_unique = serie.apply(pd.Series).stack().reset_index(drop=True)\n",
        "#parâmetro drop indica para não inserir em colunas separadas\n",
        "print(serie_unique)"
      ]
    },
    {
      "cell_type": "markdown",
      "metadata": {
        "id": "bcAefB6tvAPs"
      },
      "source": [
        "Adicionando elementos novos numa série"
      ]
    },
    {
      "cell_type": "code",
      "execution_count": null,
      "metadata": {
        "id": "3u2iBvadvAPs",
        "outputId": "abe31797-0630-42d6-9882-e7f297facba3"
      },
      "outputs": [
        {
          "name": "stdout",
          "output_type": "stream",
          "text": [
            "Série Original\n",
            "0        10\n",
            "1        30\n",
            "2       ABC\n",
            "3        50\n",
            "4    Python\n",
            "5     Teste\n",
            "dtype: object\n"
          ]
        }
      ],
      "source": [
        "array = ['10', '30', 'ABC', '50', 'Python', 'Teste']\n",
        "ds_array = pd.Series(array)\n",
        "print(\"Série Original\")\n",
        "print(ds_array)"
      ]
    },
    {
      "cell_type": "code",
      "execution_count": null,
      "metadata": {
        "scrolled": false,
        "id": "h73od5bJvAPs",
        "outputId": "efe54494-28d4-4d25-8f18-c5faaf978477"
      },
      "outputs": [
        {
          "name": "stdout",
          "output_type": "stream",
          "text": [
            "Série nova\n",
            "0        10\n",
            "1        30\n",
            "2       ABC\n",
            "3        50\n",
            "4    Python\n",
            "5     Teste\n",
            "0        20\n",
            "1        25\n",
            "dtype: object\n"
          ]
        }
      ],
      "source": [
        "new = pd.Series(['20', '25'])\n",
        "new_ds_array = ds_array.append(new)\n",
        "print(\"Série nova\")\n",
        "print(new_ds_array)"
      ]
    },
    {
      "cell_type": "markdown",
      "metadata": {
        "id": "jzSajpgjvAPt"
      },
      "source": [
        "### Funções Matemáticas"
      ]
    },
    {
      "cell_type": "markdown",
      "metadata": {
        "id": "cswecYoTvAPt"
      },
      "source": [
        "Somando séries Pandas"
      ]
    },
    {
      "cell_type": "code",
      "execution_count": null,
      "metadata": {
        "id": "2JqDpYYJvAPt",
        "outputId": "13e9262c-c936-4c8f-bfa6-b7ed7a22b6dc"
      },
      "outputs": [
        {
          "name": "stdout",
          "output_type": "stream",
          "text": [
            "0     5\n",
            "1    10\n",
            "2    15\n",
            "3    18\n",
            "4    23\n",
            "5    27\n",
            "6    32\n",
            "dtype: int64\n"
          ]
        }
      ],
      "source": [
        "serie1 = [3, 7, 9, 10, 13, 15, 18]\n",
        "serie2 = [2, 3, 6, 8, 10, 12, 14]\n",
        "ds_array1 = pd.Series(serie1)\n",
        "ds_array2 = pd.Series(serie2)\n",
        "ds_sum = ds_array1 + ds_array2\n",
        "print(ds_sum)"
      ]
    },
    {
      "cell_type": "markdown",
      "metadata": {
        "id": "2yYeL_9qvAPt"
      },
      "source": [
        "Subtraindo séries"
      ]
    },
    {
      "cell_type": "code",
      "execution_count": null,
      "metadata": {
        "id": "g8FMXsGhvAPt",
        "outputId": "42d41753-d37e-42dd-dee9-ee6b54207f6f"
      },
      "outputs": [
        {
          "name": "stdout",
          "output_type": "stream",
          "text": [
            "0    1\n",
            "1    4\n",
            "2    3\n",
            "3    2\n",
            "4    3\n",
            "5    3\n",
            "6    4\n",
            "dtype: int64\n"
          ]
        }
      ],
      "source": [
        "ds_diff = ds_array1 - ds_array2\n",
        "print(ds_diff)"
      ]
    },
    {
      "cell_type": "markdown",
      "metadata": {
        "id": "WdscPVkPvAPu"
      },
      "source": [
        "Multiplicando séries"
      ]
    },
    {
      "cell_type": "code",
      "execution_count": null,
      "metadata": {
        "id": "HqLcKnIgvAPu",
        "outputId": "d2809213-8e74-4a18-d58e-ab2183157100"
      },
      "outputs": [
        {
          "name": "stdout",
          "output_type": "stream",
          "text": [
            "0      6\n",
            "1     21\n",
            "2     54\n",
            "3     80\n",
            "4    130\n",
            "5    180\n",
            "6    252\n",
            "dtype: int64\n"
          ]
        }
      ],
      "source": [
        "ds_mult = ds_array1 * ds_array2\n",
        "print(ds_mult)"
      ]
    },
    {
      "cell_type": "markdown",
      "metadata": {
        "id": "rFsJ4d3IvAPu"
      },
      "source": [
        "Dividindo séries"
      ]
    },
    {
      "cell_type": "code",
      "execution_count": null,
      "metadata": {
        "scrolled": true,
        "id": "Sq8WeK7JvAPu",
        "outputId": "7da114ea-5b36-4860-d090-1097b265be8f"
      },
      "outputs": [
        {
          "name": "stdout",
          "output_type": "stream",
          "text": [
            "0    1.500000\n",
            "1    2.333333\n",
            "2    1.500000\n",
            "3    1.250000\n",
            "4    1.300000\n",
            "5    1.250000\n",
            "6    1.285714\n",
            "dtype: float64\n"
          ]
        }
      ],
      "source": [
        "ds_div = ds_array1 / ds_array2\n",
        "print(ds_div)"
      ]
    },
    {
      "cell_type": "markdown",
      "metadata": {
        "id": "vpyIwX53vAPu"
      },
      "source": [
        "### Comparações"
      ]
    },
    {
      "cell_type": "markdown",
      "metadata": {
        "id": "4yiKVKjBvAPu"
      },
      "source": [
        "Utilizando operadores Booleanos nas séries"
      ]
    },
    {
      "cell_type": "code",
      "execution_count": null,
      "metadata": {
        "id": "7TYTljXBvAPu"
      },
      "outputs": [],
      "source": [
        "array = [1, 2, 3, 5, 8, 12, 15, 20, 40, 50, 80, 100, 150, 180, 250, 280, 290, 300]\n",
        "array_ds = pd.Series(array)"
      ]
    },
    {
      "cell_type": "markdown",
      "metadata": {
        "id": "uvAsC3RwvAPv"
      },
      "source": [
        "Valores maiores do que 10 em formato booleano"
      ]
    },
    {
      "cell_type": "code",
      "execution_count": null,
      "metadata": {
        "id": "40d84g4AvAPv",
        "outputId": "8e3d7d66-3265-4c3a-afb5-2e95bd2c66b9"
      },
      "outputs": [
        {
          "name": "stdout",
          "output_type": "stream",
          "text": [
            "0     False\n",
            "1     False\n",
            "2     False\n",
            "3     False\n",
            "4     False\n",
            "5      True\n",
            "6      True\n",
            "7      True\n",
            "8      True\n",
            "9      True\n",
            "10     True\n",
            "11     True\n",
            "12     True\n",
            "13     True\n",
            "14     True\n",
            "15     True\n",
            "16     True\n",
            "17     True\n",
            "dtype: bool\n"
          ]
        }
      ],
      "source": [
        "array_bool = array_ds > 10\n",
        "print(array_bool)"
      ]
    },
    {
      "cell_type": "markdown",
      "metadata": {
        "id": "RwLoX8YuvAPv"
      },
      "source": [
        "Valores menores do que 10"
      ]
    },
    {
      "cell_type": "code",
      "execution_count": null,
      "metadata": {
        "id": "xtcuOmnBvAPv",
        "outputId": "e29b2862-8924-4af2-a4fb-22bc3da5f0c1"
      },
      "outputs": [
        {
          "name": "stdout",
          "output_type": "stream",
          "text": [
            "0    1\n",
            "1    2\n",
            "2    3\n",
            "3    5\n",
            "4    8\n",
            "dtype: int64\n"
          ]
        }
      ],
      "source": [
        "array1 = array_ds[array_ds < 10]\n",
        "print(array1)"
      ]
    },
    {
      "cell_type": "markdown",
      "metadata": {
        "id": "rYmdIOC4vAPv"
      },
      "source": [
        "Valores maiores do que 50"
      ]
    },
    {
      "cell_type": "code",
      "execution_count": null,
      "metadata": {
        "id": "NyqPNsHyvAPv",
        "outputId": "a94a72ea-c00d-42c7-dc6f-55cf726f7265"
      },
      "outputs": [
        {
          "name": "stdout",
          "output_type": "stream",
          "text": [
            "10     80\n",
            "11    100\n",
            "12    150\n",
            "13    180\n",
            "14    250\n",
            "15    280\n",
            "16    290\n",
            "17    300\n",
            "dtype: int64\n"
          ]
        }
      ],
      "source": [
        "array2 = array_ds[array_ds > 50]\n",
        "print(array2)"
      ]
    },
    {
      "cell_type": "markdown",
      "metadata": {
        "id": "JLyjKSgKvAPv"
      },
      "source": [
        "Valores maiores do que 30 e menores do que 250"
      ]
    },
    {
      "cell_type": "code",
      "execution_count": null,
      "metadata": {
        "id": "RXND27SMvAPw",
        "outputId": "05cd0aac-2b75-4ade-c986-2739f94d5b73"
      },
      "outputs": [
        {
          "name": "stdout",
          "output_type": "stream",
          "text": [
            "8      40\n",
            "9      50\n",
            "10     80\n",
            "11    100\n",
            "12    150\n",
            "13    180\n",
            "dtype: int64\n"
          ]
        }
      ],
      "source": [
        "array3 = array_ds[(array_ds > 30) & (array_ds < 250)]\n",
        "print(array3)"
      ]
    },
    {
      "cell_type": "markdown",
      "metadata": {
        "id": "w6Y3zzR5vAPw"
      },
      "source": [
        "Valores maiores e igual a 8 e menores e igual a 250"
      ]
    },
    {
      "cell_type": "code",
      "execution_count": null,
      "metadata": {
        "id": "m490_5YSvAPw",
        "outputId": "f3053b76-a665-452f-cc26-4d9440555631"
      },
      "outputs": [
        {
          "name": "stdout",
          "output_type": "stream",
          "text": [
            "4       8\n",
            "5      12\n",
            "6      15\n",
            "7      20\n",
            "8      40\n",
            "9      50\n",
            "10     80\n",
            "11    100\n",
            "12    150\n",
            "13    180\n",
            "14    250\n",
            "dtype: int64\n"
          ]
        }
      ],
      "source": [
        "array4 = array_ds[(array_ds >= 8) & (array_ds <= 250)]\n",
        "print(array4)"
      ]
    },
    {
      "cell_type": "markdown",
      "metadata": {
        "id": "FHi9qy56vAPw"
      },
      "source": [
        "### DataFrame"
      ]
    },
    {
      "cell_type": "markdown",
      "metadata": {
        "id": "T43gszi7vAPw"
      },
      "source": [
        "*Um DataFrame é uma estrutura bidimensional de dados, como uma tabela*"
      ]
    },
    {
      "cell_type": "code",
      "execution_count": null,
      "metadata": {
        "id": "M6DmVt2kvAPw",
        "outputId": "c7d0d6f5-1923-423a-a59f-2131fb375c00"
      },
      "outputs": [
        {
          "name": "stdout",
          "output_type": "stream",
          "text": [
            "     Aluno  Faltas  Prova  Seminário\n",
            "0    Bruno       3      2        8.5\n",
            "1   Marcos       4      7        7.5\n",
            "2  Leticia       2      5        9.0\n",
            "3    Julia       1     10        7.5\n",
            "4     Omar       4      6        8.0\n"
          ]
        }
      ],
      "source": [
        "df = pd.DataFrame({'Aluno' : [\"Marcel\", \"Bruno\", \"Leticia\", \"Julia\", \"Marcos\"],\n",
        "                   'Faltas' : [3, 4, 2, 1, 4],\n",
        "                   'Prova' : [2, 7, 5, 10, 6],\n",
        "                   'Seminário': [8.5, 7.5, 9.0, 7.5, 8.0]})\n",
        "print(df)"
      ]
    },
    {
      "cell_type": "markdown",
      "metadata": {
        "id": "nGq9GFrWvAPx"
      },
      "source": [
        "*Um DataFrame pode ser formado de várias Series*"
      ]
    },
    {
      "cell_type": "code",
      "execution_count": null,
      "metadata": {
        "id": "MEE7qGYCvAPx",
        "outputId": "75116a5c-3060-49d0-f272-a8890ebda690"
      },
      "outputs": [
        {
          "name": "stdout",
          "output_type": "stream",
          "text": [
            "   obj  pesos  idade\n",
            "0  4.0     70     20\n",
            "1  7.0     60     22\n",
            "2 -5.0     50     24\n",
            "3  NaN     80     26\n"
          ]
        }
      ],
      "source": [
        "obj = pd.Series([4, 7, -5, None])\n",
        "pesos = pd.Series([70, 60, 50, 80])\n",
        "idade = pd.Series([20, 22, 24, 26])\n",
        "quadro = pd.DataFrame({'obj': obj, 'pesos': pesos, 'idade': idade})\n",
        "print(quadro)"
      ]
    },
    {
      "cell_type": "markdown",
      "metadata": {
        "id": "GEJvC2vUvAPx"
      },
      "source": [
        "Acrescentando um item com  append"
      ]
    },
    {
      "cell_type": "markdown",
      "metadata": {
        "id": "OL7N435lvAPx"
      },
      "source": [
        "*Se quisermos acrescentar uma Serie no DataFrame, precisamos utilizar o parâmetro ignore_index=True para que seja criado mais um registro com um novo index (veja abaixo o que acontece quando não utilizamos esse parâmetro)*"
      ]
    },
    {
      "cell_type": "code",
      "execution_count": null,
      "metadata": {
        "id": "h4mvRqlyvAPx",
        "outputId": "e223e0f6-d21a-41fb-d022-96dfd48d3867"
      },
      "outputs": [
        {
          "ename": "TypeError",
          "evalue": "Can only append a Series if ignore_index=True or if the Series has a name",
          "output_type": "error",
          "traceback": [
            "\u001b[1;31m---------------------------------------------------------------------------\u001b[0m",
            "\u001b[1;31mTypeError\u001b[0m                                 Traceback (most recent call last)",
            "\u001b[1;32m<ipython-input-154-a7aecdd99caf>\u001b[0m in \u001b[0;36m<module>\u001b[1;34m\u001b[0m\n\u001b[0;32m      1\u001b[0m \u001b[1;31m#este código irá gerar um erro propositalmente para demonstração\u001b[0m\u001b[1;33m\u001b[0m\u001b[1;33m\u001b[0m\u001b[1;33m\u001b[0m\u001b[0m\n\u001b[0;32m      2\u001b[0m \u001b[0mvetor\u001b[0m \u001b[1;33m=\u001b[0m \u001b[0mpd\u001b[0m\u001b[1;33m.\u001b[0m\u001b[0mSeries\u001b[0m\u001b[1;33m(\u001b[0m\u001b[1;33m[\u001b[0m\u001b[1;36m3\u001b[0m\u001b[1;33m,\u001b[0m\u001b[1;36m54\u001b[0m\u001b[1;33m,\u001b[0m\u001b[1;36m19\u001b[0m\u001b[1;33m]\u001b[0m\u001b[1;33m)\u001b[0m\u001b[1;33m\u001b[0m\u001b[1;33m\u001b[0m\u001b[0m\n\u001b[1;32m----> 3\u001b[1;33m \u001b[0mquadro\u001b[0m \u001b[1;33m=\u001b[0m \u001b[0mquadro\u001b[0m\u001b[1;33m.\u001b[0m\u001b[0mappend\u001b[0m\u001b[1;33m(\u001b[0m\u001b[0mvetor\u001b[0m\u001b[1;33m)\u001b[0m\u001b[1;33m\u001b[0m\u001b[1;33m\u001b[0m\u001b[0m\n\u001b[0m\u001b[0;32m      4\u001b[0m \u001b[0mprint\u001b[0m\u001b[1;33m(\u001b[0m\u001b[0mquadro\u001b[0m\u001b[1;33m)\u001b[0m\u001b[1;33m\u001b[0m\u001b[1;33m\u001b[0m\u001b[0m\n",
            "\u001b[1;32m~\\Anaconda3\\lib\\site-packages\\pandas\\core\\frame.py\u001b[0m in \u001b[0;36mappend\u001b[1;34m(self, other, ignore_index, verify_integrity, sort)\u001b[0m\n\u001b[0;32m   6656\u001b[0m                 \u001b[0mother\u001b[0m \u001b[1;33m=\u001b[0m \u001b[0mSeries\u001b[0m\u001b[1;33m(\u001b[0m\u001b[0mother\u001b[0m\u001b[1;33m)\u001b[0m\u001b[1;33m\u001b[0m\u001b[1;33m\u001b[0m\u001b[0m\n\u001b[0;32m   6657\u001b[0m             \u001b[1;32mif\u001b[0m \u001b[0mother\u001b[0m\u001b[1;33m.\u001b[0m\u001b[0mname\u001b[0m \u001b[1;32mis\u001b[0m \u001b[1;32mNone\u001b[0m \u001b[1;32mand\u001b[0m \u001b[1;32mnot\u001b[0m \u001b[0mignore_index\u001b[0m\u001b[1;33m:\u001b[0m\u001b[1;33m\u001b[0m\u001b[1;33m\u001b[0m\u001b[0m\n\u001b[1;32m-> 6658\u001b[1;33m                 raise TypeError('Can only append a Series if ignore_index=True'\n\u001b[0m\u001b[0;32m   6659\u001b[0m                                 ' or if the Series has a name')\n\u001b[0;32m   6660\u001b[0m \u001b[1;33m\u001b[0m\u001b[0m\n",
            "\u001b[1;31mTypeError\u001b[0m: Can only append a Series if ignore_index=True or if the Series has a name"
          ]
        }
      ],
      "source": [
        "#este código irá gerar um erro propositalmente para demonstração\n",
        "vetor = pd.Series([3, 54, 19])\n",
        "quadro = quadro.append(vetor)\n",
        "print(quadro)"
      ]
    },
    {
      "cell_type": "markdown",
      "metadata": {
        "id": "zMlgwr9qvAPx"
      },
      "source": [
        "*Agora vamos utilizar ignore_index=True*"
      ]
    },
    {
      "cell_type": "code",
      "execution_count": null,
      "metadata": {
        "id": "gCElaDbDvAPx",
        "outputId": "e0488ebc-533d-4fd5-8323-9882bfd5c5f7"
      },
      "outputs": [
        {
          "name": "stdout",
          "output_type": "stream",
          "text": [
            "   obj  pesos  idade    0     1     2\n",
            "0  4.0   70.0   20.0  NaN   NaN   NaN\n",
            "1  7.0   60.0   22.0  NaN   NaN   NaN\n",
            "2 -5.0   50.0   24.0  NaN   NaN   NaN\n",
            "3  NaN   80.0   26.0  NaN   NaN   NaN\n",
            "4  NaN    NaN    NaN  3.0  54.0  19.0\n"
          ]
        }
      ],
      "source": [
        "quadro2 = quadro\n",
        "vetor = pd.Series([3, 54, 19])\n",
        "quadro2 = quadro2.append(vetor, ignore_index=True)\n",
        "print(quadro2)"
      ]
    },
    {
      "cell_type": "markdown",
      "metadata": {
        "id": "yTYfuiC_vAPy"
      },
      "source": [
        "*Não aconteceu bem aquilo do que gostaríamos, isso ocorreu porque não especificamos os nomes das colunas dos quais o Pandas deveria acrescentar*"
      ]
    },
    {
      "cell_type": "markdown",
      "metadata": {
        "id": "c0yCaCoMvAPy"
      },
      "source": [
        "*Para consertarmos isso, os nomes dos indexes desta Serie e das colunas do DataFrame precisam ser os mesmos*"
      ]
    },
    {
      "cell_type": "code",
      "execution_count": null,
      "metadata": {
        "id": "nCEnahbtvAPy",
        "outputId": "27e90514-b39a-48c2-a6c1-492f49223ece"
      },
      "outputs": [
        {
          "name": "stdout",
          "output_type": "stream",
          "text": [
            "   obj  pesos  idade\n",
            "0  4.0     70     20\n",
            "1  7.0     60     22\n",
            "2 -5.0     50     24\n",
            "3  NaN     80     26\n",
            "4  3.0     54     19\n"
          ]
        }
      ],
      "source": [
        "vetor = pd.Series([3, 54, 19], index=['obj', 'pesos', 'idade'])\n",
        "quadro = quadro.append(vetor, ignore_index=True)\n",
        "print(quadro)"
      ]
    }
  ],
  "metadata": {
    "kernelspec": {
      "display_name": "Python 3",
      "language": "python",
      "name": "python3"
    },
    "language_info": {
      "codemirror_mode": {
        "name": "ipython",
        "version": 3
      },
      "file_extension": ".py",
      "mimetype": "text/x-python",
      "name": "python",
      "nbconvert_exporter": "python",
      "pygments_lexer": "ipython3",
      "version": "3.7.3"
    },
    "colab": {
      "name": "Pandas Essencial - Parte 1.ipynb",
      "provenance": [],
      "collapsed_sections": []
    }
  },
  "nbformat": 4,
  "nbformat_minor": 0
}